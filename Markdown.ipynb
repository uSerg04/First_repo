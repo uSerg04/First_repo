{
  "cells": [
    {
      "cell_type": "markdown",
      "metadata": {
        "id": "view-in-github",
        "colab_type": "text"
      },
      "source": [
        "<a href=\"https://colab.research.google.com/github/uSerg04/First_repo/blob/main/Markdown.ipynb\" target=\"_parent\"><img src=\"https://colab.research.google.com/assets/colab-badge.svg\" alt=\"Open In Colab\"/></a>"
      ]
    },
    {
      "cell_type": "markdown",
      "source": [
        "# **Разметка в Markdown.**\n",
        "\n",
        "###**Маркированный список**\n",
        "1. Кот\n",
        "1. Пес\n",
        "1. Котопес\n",
        "\n",
        "###**Рисунок**\n",
        "![car](https://i.pinimg.com/originals/5b/e1/fb/5be1fbddc74338d4e1b8cfab417b4b76.jpg)\n",
        "\n",
        "###**Таблица**\n",
        "\n",
        "Автомобиль      | Цена\n",
        "------------------|------------------\n",
        "Ауди    | 6400000\n",
        "Порше    | 7800000\n",
        "\n",
        "###**Ссылка**\n",
        "[Steam](https://store.steampowered.com/)"
      ],
      "metadata": {
        "id": "KJie1b9teDOT"
      }
    }
  ],
  "metadata": {
    "colab": {
      "provenance": [],
      "authorship_tag": "ABX9TyPZwkNHMz/uPncOeF+lhJa4",
      "include_colab_link": true
    },
    "kernelspec": {
      "display_name": "Python 3",
      "name": "python3"
    },
    "language_info": {
      "name": "python"
    }
  },
  "nbformat": 4,
  "nbformat_minor": 0
}