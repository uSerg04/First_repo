{
  "nbformat": 4,
  "nbformat_minor": 0,
  "metadata": {
    "colab": {
      "provenance": [],
      "authorship_tag": "ABX9TyOb5fupr8WA7VWNdWSq0iTd",
      "include_colab_link": true
    },
    "kernelspec": {
      "name": "python3",
      "display_name": "Python 3"
    },
    "language_info": {
      "name": "python"
    }
  },
  "cells": [
    {
      "cell_type": "markdown",
      "metadata": {
        "id": "view-in-github",
        "colab_type": "text"
      },
      "source": [
        "<a href=\"https://colab.research.google.com/github/uSerg04/First_repo/blob/main/Avt2.ipynb\" target=\"_parent\"><img src=\"https://colab.research.google.com/assets/colab-badge.svg\" alt=\"Open In Colab\"/></a>"
      ]
    },
    {
      "cell_type": "markdown",
      "source": [
        "Задание на автомат №2, Вариант №4 (сложный), Проскуряков Сергей, 21119"
      ],
      "metadata": {
        "id": "413CknKxiBf1"
      }
    },
    {
      "cell_type": "code",
      "execution_count": 9,
      "metadata": {
        "colab": {
          "base_uri": "https://localhost:8080/",
          "height": 589
        },
        "id": "4e6IAk0jY_No",
        "outputId": "ccf03a81-c96a-4d99-b5f8-7de955a1792b"
      },
      "outputs": [
        {
          "output_type": "stream",
          "name": "stdout",
          "text": [
            "Drive already mounted at ./sample_data/drive; to attempt to forcibly remount, call drive.mount(\"./sample_data/drive\", force_remount=True).\n",
            "Это программа для анализа осадков может:\n",
            "1\n",
            "Ввести два списка с клавиатуры, сохранить и вывести из MySQL.\n",
            "2\n",
            "Выполнение всех операций из базового варианта, сохранение результатов и вывод из MySQL (в виде\n",
            "таблицы).\n",
            "3\n",
            "Сохранить данные из MySQL в Excel и вывести на экран.\n",
            "\n",
            "Вы выбрали: 2\n",
            "Введите два списка с клавиатуры \n"
          ]
        },
        {
          "output_type": "error",
          "ename": "KeyboardInterrupt",
          "evalue": "ignored",
          "traceback": [
            "\u001b[0;31m---------------------------------------------------------------------------\u001b[0m",
            "\u001b[0;31mKeyboardInterrupt\u001b[0m                         Traceback (most recent call last)",
            "\u001b[0;32m<ipython-input-9-bb5d27c14474>\u001b[0m in \u001b[0;36m<cell line: 36>\u001b[0;34m()\u001b[0m\n\u001b[1;32m     51\u001b[0m         \u001b[0mconn\u001b[0m\u001b[0;34m.\u001b[0m\u001b[0mclose\u001b[0m\u001b[0;34m(\u001b[0m\u001b[0;34m)\u001b[0m\u001b[0;34m\u001b[0m\u001b[0;34m\u001b[0m\u001b[0m\n\u001b[1;32m     52\u001b[0m \u001b[0;34m\u001b[0m\u001b[0m\n\u001b[0;32m---> 53\u001b[0;31m   \u001b[0minput_string1\u001b[0m \u001b[0;34m=\u001b[0m \u001b[0minput\u001b[0m\u001b[0;34m(\u001b[0m\u001b[0;34m'Введите список месяцев '\u001b[0m\u001b[0;34m)\u001b[0m\u001b[0;34m\u001b[0m\u001b[0;34m\u001b[0m\u001b[0m\n\u001b[0m\u001b[1;32m     54\u001b[0m   \u001b[0minput_list1\u001b[0m \u001b[0;34m=\u001b[0m \u001b[0minput_string1\u001b[0m\u001b[0;34m.\u001b[0m\u001b[0msplit\u001b[0m\u001b[0;34m(\u001b[0m\u001b[0;34m\",\"\u001b[0m\u001b[0;34m)\u001b[0m\u001b[0;34m\u001b[0m\u001b[0;34m\u001b[0m\u001b[0m\n\u001b[1;32m     55\u001b[0m   \u001b[0minput_string2\u001b[0m \u001b[0;34m=\u001b[0m \u001b[0minput\u001b[0m\u001b[0;34m(\u001b[0m\u001b[0;34m'Введите количество осадков соответственно каждому месяцу '\u001b[0m\u001b[0;34m)\u001b[0m\u001b[0;34m\u001b[0m\u001b[0;34m\u001b[0m\u001b[0m\n",
            "\u001b[0;32m/usr/local/lib/python3.10/dist-packages/ipykernel/kernelbase.py\u001b[0m in \u001b[0;36mraw_input\u001b[0;34m(self, prompt)\u001b[0m\n\u001b[1;32m    849\u001b[0m                 \u001b[0;34m\"raw_input was called, but this frontend does not support input requests.\"\u001b[0m\u001b[0;34m\u001b[0m\u001b[0;34m\u001b[0m\u001b[0m\n\u001b[1;32m    850\u001b[0m             )\n\u001b[0;32m--> 851\u001b[0;31m         return self._input_request(str(prompt),\n\u001b[0m\u001b[1;32m    852\u001b[0m             \u001b[0mself\u001b[0m\u001b[0;34m.\u001b[0m\u001b[0m_parent_ident\u001b[0m\u001b[0;34m,\u001b[0m\u001b[0;34m\u001b[0m\u001b[0;34m\u001b[0m\u001b[0m\n\u001b[1;32m    853\u001b[0m             \u001b[0mself\u001b[0m\u001b[0;34m.\u001b[0m\u001b[0m_parent_header\u001b[0m\u001b[0;34m,\u001b[0m\u001b[0;34m\u001b[0m\u001b[0;34m\u001b[0m\u001b[0m\n",
            "\u001b[0;32m/usr/local/lib/python3.10/dist-packages/ipykernel/kernelbase.py\u001b[0m in \u001b[0;36m_input_request\u001b[0;34m(self, prompt, ident, parent, password)\u001b[0m\n\u001b[1;32m    893\u001b[0m             \u001b[0;32mexcept\u001b[0m \u001b[0mKeyboardInterrupt\u001b[0m\u001b[0;34m:\u001b[0m\u001b[0;34m\u001b[0m\u001b[0;34m\u001b[0m\u001b[0m\n\u001b[1;32m    894\u001b[0m                 \u001b[0;31m# re-raise KeyboardInterrupt, to truncate traceback\u001b[0m\u001b[0;34m\u001b[0m\u001b[0;34m\u001b[0m\u001b[0m\n\u001b[0;32m--> 895\u001b[0;31m                 \u001b[0;32mraise\u001b[0m \u001b[0mKeyboardInterrupt\u001b[0m\u001b[0;34m(\u001b[0m\u001b[0;34m\"Interrupted by user\"\u001b[0m\u001b[0;34m)\u001b[0m \u001b[0;32mfrom\u001b[0m \u001b[0;32mNone\u001b[0m\u001b[0;34m\u001b[0m\u001b[0;34m\u001b[0m\u001b[0m\n\u001b[0m\u001b[1;32m    896\u001b[0m             \u001b[0;32mexcept\u001b[0m \u001b[0mException\u001b[0m \u001b[0;32mas\u001b[0m \u001b[0me\u001b[0m\u001b[0;34m:\u001b[0m\u001b[0;34m\u001b[0m\u001b[0;34m\u001b[0m\u001b[0m\n\u001b[1;32m    897\u001b[0m                 \u001b[0mself\u001b[0m\u001b[0;34m.\u001b[0m\u001b[0mlog\u001b[0m\u001b[0;34m.\u001b[0m\u001b[0mwarning\u001b[0m\u001b[0;34m(\u001b[0m\u001b[0;34m\"Invalid Message:\"\u001b[0m\u001b[0;34m,\u001b[0m \u001b[0mexc_info\u001b[0m\u001b[0;34m=\u001b[0m\u001b[0;32mTrue\u001b[0m\u001b[0;34m)\u001b[0m\u001b[0;34m\u001b[0m\u001b[0;34m\u001b[0m\u001b[0m\n",
            "\u001b[0;31mKeyboardInterrupt\u001b[0m: Interrupted by user"
          ]
        }
      ],
      "source": [
        "import sqlite3\n",
        "import pandas as pd\n",
        "from google.colab import drive\n",
        "drive.mount('./sample_data/drive')\n",
        "path='./sample_data/drive/MyDrive/avtomat/avtomat.db'\n",
        "\n",
        "print('''Это программа для анализа осадков может:\n",
        "1\n",
        "Ввести два списка с клавиатуры, сохранить и вывести из MySQL.\n",
        "2\n",
        "Выполнение всех операций из базового варианта, сохранение результатов и вывод из MySQL (в виде\n",
        "таблицы).\n",
        "3\n",
        "Сохранить данные из MySQL в Excel и вывести на экран.\n",
        "''')\n",
        "s=input('Вы выбрали: ')\n",
        "if s=='1':\n",
        " input_string1 = input('Введите список месяцев ')\n",
        " input_list1 = input_string1.split(\",\")\n",
        "\n",
        " input_string2 = input('Введите количество осадков соответственно каждому месяцу ')\n",
        " input_list2 = input_string2.split(\",\")\n",
        "\n",
        " conn=sqlite3.connect(path)\n",
        " cursor=conn.cursor()\n",
        " cursor.execute('''CREATE TABLE IF NOT EXISTS osadkii\n",
        "             (id INTEGER PRIMARY KEY, month TEXT, osadki FLOAT)''')\n",
        "\n",
        " for i in range(len(input_list1)):\n",
        "     cursor.execute(\"INSERT INTO osadkii (month, osadki) VALUES (?, ?)\", (input_list1[i], input_list2[i]))\n",
        "\n",
        " conn.commit()\n",
        " df = pd.read_sql_query(\"SELECT * from osadkii\", conn)\n",
        " display(df)\n",
        "\n",
        "if s=='2':\n",
        "  print('''Введите два списка с клавиатуры ''')\n",
        "\n",
        "  def osadki_table(months, osadki):\n",
        "    avr_osadki = sum(osadki) / len(osadki)\n",
        "    print(' Месяц   Осадки   Отклонение')\n",
        "    for i, (month, osadki) in enumerate(zip(months, osadki), 1):\n",
        "        deviation = abs(osadki - avr_osadki)\n",
        "        print('%2d %-8s %5.1f %10.1f' % (i, month, osadki, deviation))\n",
        "        conn = sqlite3.connect(path)\n",
        "        cursor = conn.cursor()\n",
        "        cursor.execute('''CREATE TABLE IF NOT EXISTS osadkii\n",
        "             (i INTEGER PRIMARY KEY, month TEXT, osadki FLOAT, deviation FLOAT)''')\n",
        "        cursor.execute(\"INSERT INTO osadkii VALUES (?, ?, ?, ?)\", (i, month, osadki, deviation))\n",
        "        conn.commit()\n",
        "        conn.close()\n",
        "\n",
        "  input_string1 = input('Введите список месяцев ')\n",
        "  input_list1 = input_string1.split(\",\")\n",
        "  input_string2 = input('Введите количество осадков соответственно каждому месяцу ')\n",
        "  input_list2 = input_string2.split(\",\")\n",
        "\n",
        "  months = input_list1\n",
        "  osadki = [float(x) for x in input_list2]\n",
        "  osadki_table(months, osadki)\n",
        "\n",
        "if s=='3':\n",
        "  conn = sqlite3.connect(path)\n",
        "  df = pd.read_sql_query('SELECT * FROM osadkii', conn)\n",
        "  df.to_excel('output.xlsx', index=False)\n",
        "  print(df)\n",
        "  conn.close()"
      ]
    }
  ]
}