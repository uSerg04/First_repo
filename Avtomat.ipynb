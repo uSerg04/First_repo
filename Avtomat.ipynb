{
  "nbformat": 4,
  "nbformat_minor": 0,
  "metadata": {
    "colab": {
      "provenance": [],
      "authorship_tag": "ABX9TyMVh+vWXV4tnEgfMTdg2Ien",
      "include_colab_link": true
    },
    "kernelspec": {
      "name": "python3",
      "display_name": "Python 3"
    },
    "language_info": {
      "name": "python"
    }
  },
  "cells": [
    {
      "cell_type": "markdown",
      "metadata": {
        "id": "view-in-github",
        "colab_type": "text"
      },
      "source": [
        "<a href=\"https://colab.research.google.com/github/uSerg04/First_repo/blob/main/Avtomat.ipynb\" target=\"_parent\"><img src=\"https://colab.research.google.com/assets/colab-badge.svg\" alt=\"Open In Colab\"/></a>"
      ]
    },
    {
      "cell_type": "markdown",
      "source": [
        "# **Задание на автомат №2.**\n",
        "### Выполнил Проскуряков Сергей, гр. 21119"
      ],
      "metadata": {
        "id": "8vSuXHzEOCD9"
      }
    },
    {
      "cell_type": "code",
      "execution_count": null,
      "metadata": {
        "id": "9KDrk1JQjfZq"
      },
      "outputs": [],
      "source": [
        "# ------------------------------------------------------------------------------------------------------\n",
        "\n",
        "import sqlite3\n",
        "import pandas as pd\n",
        "\n",
        "# ------------------------------------------------------------------------------------------------------\n",
        "\n",
        "conn = sqlite3.connect('database.db')\n",
        "cur = conn.cursor()\n",
        "cur.execute('''CREATE TABLE IF NOT EXISTS qwertyui\n",
        "               (id INTEGER PRIMARY KEY, x1 REAL, y1 REAL, x2 REAL, y2 REAL, rasst REAL)''')\n",
        "conn.commit()\n",
        "\n",
        "# ------------------------------------------------------------------------------------------------------\n",
        "\n",
        "print(\"Выберите действие:\")\n",
        "print(\"1. Вычисление расстояния между точками, сохранение и вывод из MySQL\")\n",
        "print(\"2. Создание множества и словаря, сохранение и вывод из MySQL\")\n",
        "print(\"3. Определить минимальное и максимальное значения, сохранение и вывод из MySQL\")\n",
        "x = int(input())\n",
        "\n",
        "# ------------------------------------------------------------------------------------------------------\n",
        "\n",
        "if x == 1:\n",
        "  x1 = float(input(\"Введите значение координаты x1: \"))\n",
        "  y1 = float(input(\"Введите значение координаты y1: \"))\n",
        "  x2 = float(input(\"Введите значение координаты x2: \"))\n",
        "  y2 = float(input(\"Введите значение координаты y2: \"))\n",
        "  rasst = ((x2 - x1)**2 + (y2 - y1)**2)**0.5\n",
        "  cur.execute('INSERT INTO qwertyui (x1, y1, x2, y2, rasst) VALUES (?, ?, ?, ?, ?)', (x1, y1, x2, y2, rasst))\n",
        "  conn.commit()\n",
        "  f = pd.read_sql_query(\"SELECT * from qwertyui\", conn)\n",
        "  display(f)\n",
        "  print(f\"Расстояние между A({x1}, {y1}) и B({x2}, {y2}) = {rasst}\")\n",
        "\n",
        "# ------------------------------------------------------------------------------------------------------\n",
        "\n",
        "if x == 2:\n",
        "  mno = set(input(\"Введите элементы множества через запятую: \").split(\",\"))\n",
        "  slo = dict(enumerate(mno))\n",
        "  cur.execute(\"INSERT INTO qwertyui (x1, y1, x2, y2, rasst) VALUES (?, ?, ?, ?, ?)\", (str(mno), str(slo), \"\", \"\", \"\"))\n",
        "  conn.commit()\n",
        "  f = pd.read_sql_query(\"SELECT * from qwertyui\", conn)\n",
        "  display(f)\n",
        "  print(f\"Множество: {mno}\")\n",
        "  print(f\"Словарь: {slo}\")\n",
        "\n",
        "# ------------------------------------------------------------------------------------------------------\n",
        "\n",
        "if x == 3:\n",
        "  spisok = list(map(int, input(\"Введите элементы списка через запятую: \").split(\",\")))\n",
        "  minz = min(spisok)\n",
        "  maxz = max(spisok)\n",
        "  cur.execute(\"INSERT INTO qwertyui (x1, y1, x2, y2, rasst) VALUES (?, ?, ?, ?, ?)\", (str(spisok), minz, maxz, \"\", \"\"))\n",
        "  conn.commit()\n",
        "  f = pd.read_sql_query(\"SELECT * from qwertyui\", conn)\n",
        "  display(f)\n",
        "  print(f\"Список: {spisok}\")\n",
        "  print(f\"Минимальное значение: {minz}\")\n",
        "  print(f\"Максимальное значение: {maxz}\")\n",
        "\n",
        "# ------------------------------------------------------------------------------------------------------\n",
        "\n",
        "else:\n",
        "  print(\"ERROR\")\n",
        "# ------------------------------------------------------------------------------------------------------"
      ]
    }
  ]
}